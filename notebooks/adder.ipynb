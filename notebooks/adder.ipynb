{
 "metadata": {
  "name": "",
  "signature": "sha256:1dcd85b61bcc03f67654284b7538b084975a259dd0f16309aa7090d991d9c7f5"
 },
 "nbformat": 3,
 "nbformat_minor": 0,
 "worksheets": [
  {
   "cells": [
    {
     "cell_type": "markdown",
     "metadata": {},
     "source": [
      "# Injecting Parameters"
     ]
    },
    {
     "cell_type": "code",
     "collapsed": false,
     "input": [
      "# First code block contains parameters that get injected from the framework\n",
      "a = 0\n",
      "b = 0"
     ],
     "language": "python",
     "metadata": {},
     "outputs": [],
     "prompt_number": 12
    },
    {
     "cell_type": "code",
     "collapsed": false,
     "input": [
      "print \"Injected value for a: %d\" % a\n",
      "print \"Injected value for b: %d\" % b\n",
      "print \"a + b = %d\" % (a + b)"
     ],
     "language": "python",
     "metadata": {},
     "outputs": [
      {
       "output_type": "stream",
       "stream": "stdout",
       "text": [
        "Injected value for a: 0\n",
        "Injected value for b: 0\n",
        "a + b = 0\n"
       ]
      }
     ],
     "prompt_number": 13
    }
   ],
   "metadata": {}
  }
 ]
}