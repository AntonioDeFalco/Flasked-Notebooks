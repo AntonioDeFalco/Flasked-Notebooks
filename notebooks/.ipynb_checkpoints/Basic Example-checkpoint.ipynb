{
 "metadata": {
  "name": "",
  "signature": "sha256:73cbc808997a921c4a36c63cdeeb7cc1a3e7211a69db7ccdaea87e0363531722"
 },
 "nbformat": 3,
 "nbformat_minor": 0,
 "worksheets": [
  {
   "cells": [
    {
     "cell_type": "markdown",
     "metadata": {},
     "source": [
      "# Basic Example"
     ]
    },
    {
     "cell_type": "code",
     "collapsed": false,
     "input": [
      "import time\n",
      "print \"Hello IPython Notebooks Users, it's %s \" % time.asctime()"
     ],
     "language": "python",
     "metadata": {},
     "outputs": [
      {
       "output_type": "stream",
       "stream": "stdout",
       "text": [
        "Hello IPython Notebooks Users, it's Wed May  7 21:59:18 2014 \n"
       ]
      }
     ],
     "prompt_number": 3
    }
   ],
   "metadata": {}
  }
 ]
}